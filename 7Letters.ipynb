{
 "cells": [
  {
   "cell_type": "code",
   "execution_count": 1,
   "metadata": {
    "scrolled": false
   },
   "outputs": [
    {
     "name": "stdout",
     "output_type": "stream",
     "text": [
      "score:  27\n"
     ]
    },
    {
     "data": {
      "text/plain": [
       "['eight',\n",
       " 'eighth',\n",
       " 'eightieth',\n",
       " 'elite',\n",
       " 'giggle',\n",
       " 'gillie',\n",
       " 'gimlet',\n",
       " 'gimme',\n",
       " 'height',\n",
       " 'helmet',\n",
       " 'legit',\n",
       " 'lemme',\n",
       " 'liege',\n",
       " 'limelight',\n",
       " 'lithe',\n",
       " 'little',\n",
       " 'melee',\n",
       " 'mettle',\n",
       " 'millet',\n",
       " 'teeth',\n",
       " 'teethe',\n",
       " 'theme',\n",
       " 'tithe',\n",
       " 'title',\n",
       " 'tittle']"
      ]
     },
     "execution_count": 1,
     "metadata": {},
     "output_type": "execute_result"
    }
   ],
   "source": [
    "import pandas as pd\n",
    "import numpy as np\n",
    "import os\n",
    "import string\n",
    "import sets\n",
    "\n",
    "word_dict = [line.rstrip('\\n') for line in open('dict60.txt')]\n",
    "\n",
    "#input letters here\n",
    "letters = 'TGHILM'\n",
    "center_letter = 'E'\n",
    "\n",
    "min_letters = 5\n",
    "\n",
    "letterset = set(letters.lower() + center_letter.lower())\n",
    "\n",
    "subdict = []\n",
    "\n",
    "for word in word_dict:\n",
    "    \n",
    "    #strip punctuation\n",
    "    word = word.translate(str.maketrans('', '', string.punctuation))\n",
    "    \n",
    "    if len(word) >= min_letters:\n",
    "        subdict.append(word)\n",
    "\n",
    "center_only = []\n",
    "        \n",
    "for word in subdict:\n",
    "    if center_letter.lower() in word:\n",
    "        center_only.append(word)\n",
    "        \n",
    "final_words = []\n",
    "\n",
    "for word in center_only:\n",
    "    if set(word).issubset(letterset):\n",
    "        final_words.append(word)\n",
    "        \n",
    "score = 0\n",
    "\n",
    "for word in final_words:\n",
    "    if letterset.issubset(word):\n",
    "        score = score + 3\n",
    "    else:\n",
    "        score = score + 1\n",
    "        \n",
    "print('score: ', score)\n",
    "final_words"
   ]
  },
  {
   "cell_type": "code",
   "execution_count": 2,
   "metadata": {},
   "outputs": [
    {
     "data": {
      "text/plain": [
       "102216"
      ]
     },
     "execution_count": 2,
     "metadata": {},
     "output_type": "execute_result"
    }
   ],
   "source": [
    "len(word_dict)"
   ]
  },
  {
   "cell_type": "code",
   "execution_count": 4,
   "metadata": {},
   "outputs": [],
   "source": [
    "a = 'abcdeef'\n",
    "b='abcdef'"
   ]
  },
  {
   "cell_type": "code",
   "execution_count": 10,
   "metadata": {},
   "outputs": [
    {
     "name": "stdout",
     "output_type": "stream",
     "text": [
      "True\n"
     ]
    }
   ],
   "source": [
    "if letterset.issubset(set(word)):\n",
    "    print (True)"
   ]
  },
  {
   "cell_type": "code",
   "execution_count": 2,
   "metadata": {},
   "outputs": [
    {
     "data": {
      "text/plain": [
       "[('a', 'a'),\n",
       " ('a', 'b'),\n",
       " ('a', 'c'),\n",
       " ('a', 'd'),\n",
       " ('b', 'a'),\n",
       " ('b', 'b'),\n",
       " ('b', 'c'),\n",
       " ('b', 'd'),\n",
       " ('c', 'a'),\n",
       " ('c', 'b'),\n",
       " ('c', 'c'),\n",
       " ('c', 'd'),\n",
       " ('d', 'a'),\n",
       " ('d', 'b'),\n",
       " ('d', 'c'),\n",
       " ('d', 'd')]"
      ]
     },
     "execution_count": 2,
     "metadata": {},
     "output_type": "execute_result"
    }
   ],
   "source": [
    "import itertools\n",
    "list(itertools.product(['a','b','c','d'],repeat=2))"
   ]
  },
  {
   "cell_type": "code",
   "execution_count": 3,
   "metadata": {},
   "outputs": [
    {
     "name": "stdout",
     "output_type": "stream",
     "text": [
      "16807\n",
      "117649\n",
      "823543\n",
      "5764801\n",
      "40353607\n"
     ]
    }
   ],
   "source": [
    "for i in [5,6,7,8,9]:\n",
    "    print(len(list(itertools.product(['a','b','c','d','e','f','g'], repeat=i))))"
   ]
  },
  {
   "cell_type": "code",
   "execution_count": 7,
   "metadata": {},
   "outputs": [
    {
     "data": {
      "text/plain": [
       "102216"
      ]
     },
     "execution_count": 7,
     "metadata": {},
     "output_type": "execute_result"
    }
   ],
   "source": [
    "len(word_dict)"
   ]
  },
  {
   "cell_type": "code",
   "execution_count": 4,
   "metadata": {},
   "outputs": [
    {
     "data": {
      "text/plain": [
       "16807"
      ]
     },
     "execution_count": 4,
     "metadata": {},
     "output_type": "execute_result"
    }
   ],
   "source": [
    "7**5"
   ]
  }
 ],
 "metadata": {
  "kernelspec": {
   "display_name": "Python 3",
   "language": "python",
   "name": "python3"
  },
  "language_info": {
   "codemirror_mode": {
    "name": "ipython",
    "version": 3
   },
   "file_extension": ".py",
   "mimetype": "text/x-python",
   "name": "python",
   "nbconvert_exporter": "python",
   "pygments_lexer": "ipython3",
   "version": "3.6.8"
  }
 },
 "nbformat": 4,
 "nbformat_minor": 2
}
